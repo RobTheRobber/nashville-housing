{
 "cells": [
  {
   "cell_type": "code",
   "execution_count": 3,
   "metadata": {},
   "outputs": [
    {
     "ename": "ImportError",
     "evalue": "attempted relative import with no known parent package",
     "output_type": "error",
     "traceback": [
      "\u001b[1;31m---------------------------------------------------------------------------\u001b[0m",
      "\u001b[1;31mImportError\u001b[0m                               Traceback (most recent call last)",
      "Cell \u001b[1;32mIn[3], line 5\u001b[0m\n\u001b[0;32m      3\u001b[0m \u001b[39mimport\u001b[39;00m \u001b[39mnumpy\u001b[39;00m \u001b[39mas\u001b[39;00m \u001b[39mnp\u001b[39;00m\n\u001b[0;32m      4\u001b[0m \u001b[39mimport\u001b[39;00m \u001b[39msys\u001b[39;00m\n\u001b[1;32m----> 5\u001b[0m \u001b[39mfrom\u001b[39;00m \u001b[39m.\u001b[39;00m\u001b[39m.\u001b[39;00m\u001b[39msrc\u001b[39;00m\u001b[39m.\u001b[39;00m\u001b[39mtest\u001b[39;00m \u001b[39mimport\u001b[39;00m \u001b[39m*\u001b[39m\n\u001b[0;32m      6\u001b[0m get_ipython()\u001b[39m.\u001b[39mrun_line_magic(\u001b[39m'\u001b[39m\u001b[39mload_ext\u001b[39m\u001b[39m'\u001b[39m, \u001b[39m'\u001b[39m\u001b[39mautoreload\u001b[39m\u001b[39m'\u001b[39m)\n\u001b[0;32m      7\u001b[0m get_ipython()\u001b[39m.\u001b[39mrun_line_magic(\u001b[39m'\u001b[39m\u001b[39mautoreload\u001b[39m\u001b[39m'\u001b[39m, \u001b[39m'\u001b[39m\u001b[39m2\u001b[39m\u001b[39m'\u001b[39m)\n",
      "\u001b[1;31mImportError\u001b[0m: attempted relative import with no known parent package"
     ]
    }
   ],
   "source": [
    "import pandas as pd\n",
    "import matplotlib.pyplot as plt\n",
    "import numpy as np\n",
    "import sys\n",
    "from ..src.test import *\n",
    "%load_ext autoreload\n",
    "%autoreload 2\n",
    "pd.set_option('display.float_format', lambda x: '%.2f' % x)\n",
    "pd.options.mode.chained_assignment = None  # default='warn'\n",
    "housing = pd.read_csv('data/nashville-housing.csv')"
   ]
  },
  {
   "cell_type": "code",
   "execution_count": null,
   "metadata": {},
   "outputs": [],
   "source": [
    "\n",
    "#Filter out Land Use Categories with less than 10 entries\n",
    "filtered_landuse = remove_small_groupings(housing,\"LandUse\",10)\n",
    "filtered_landuse['LandUse'] = filtered_landuse['LandUse'].replace('VACANT RES LAND', 'VACANT RESIDENTIAL LAND')\n",
    "t_housing = remove_unwanted_columns(filtered_landuse,['OwnerName','OwnerAddress','LegalReference'])\n",
    "# t_housing = filtered_landuse.drop(columns=['OwnerName','OwnerAddress','LegalReference'])\n",
    "t_housing = filtered_landuse.dropna(subset=['Acreage', 'TaxDistrict','LandValue','BuildingValue',\"SalePrice\"])\n",
    "t_housing['SalePrice'] = pd.to_numeric(t_housing.loc[:,'SalePrice'],errors='coerce')\n",
    "t_housing\n"
   ]
  },
  {
   "cell_type": "code",
   "execution_count": null,
   "metadata": {},
   "outputs": [],
   "source": [
    "\n",
    "t_housing = remove_unwanted_columns(filtered_landuse,['OwnerName','OwnerAddress','LegalReference'])\n",
    "# t_housing = filtered_landuse.drop(columns=['OwnerName','OwnerAddress','LegalReference'])\n",
    "t_housing = filtered_landuse.dropna(subset=['Acreage', 'TaxDistrict','LandValue','BuildingValue',\"SalePrice\"])\n",
    "t_housing['SalePrice'] = pd.to_numeric(t_housing.loc[:,'SalePrice'],errors='coerce')"
   ]
  },
  {
   "cell_type": "code",
   "execution_count": null,
   "metadata": {},
   "outputs": [],
   "source": [
    "pie_group = t_housing['LandUse'].value_counts().head(5)"
   ]
  },
  {
   "cell_type": "code",
   "execution_count": null,
   "metadata": {},
   "outputs": [],
   "source": [
    "pie_group.sort_values(ascending=False)"
   ]
  },
  {
   "cell_type": "code",
   "execution_count": null,
   "metadata": {},
   "outputs": [],
   "source": [
    "\n",
    "pie_group.plot(kind='pie',title=\"Nashville Land Use Percentages\", figsize=(20,9),ylabel=\" \",  labels=pie_group.index, autopct =\"%1.1f%%\" )\n"
   ]
  },
  {
   "cell_type": "code",
   "execution_count": null,
   "metadata": {},
   "outputs": [],
   "source": [
    "tax_district= t_housing.groupby('TaxDistrict')[\"LandUse\"].size()\n",
    "ax = tax_district.plot.barh(title=\"Total Properties Per Tax District\", ylabel=\"\")\n",
    "ax.ticklabel_format(style='plain', axis='x')\n",
    "for i, count in enumerate(tax_district):\n",
    "    ax.annotate(str(count), xy=(count, i), va='center')\n"
   ]
  },
  {
   "cell_type": "code",
   "execution_count": null,
   "metadata": {},
   "outputs": [],
   "source": [
    "tax_district= t_housing.groupby([\"LandUse\",'TaxDistrict']).size().sort_values(ascending=False).head(10)\n",
    "tax_district= tax_district.sort_values(ascending=True)\n",
    "ax = tax_district.plot.barh(title=\"Total Properties Per Tax District\", ylabel=\"\",figsize=(16,16))\n",
    "ax.ticklabel_format(style='plain', axis='x')\n",
    "for i, count in enumerate(tax_district):\n",
    "    ax.annotate(str(count), xy=(count, i), va='center')"
   ]
  },
  {
   "cell_type": "code",
   "execution_count": null,
   "metadata": {},
   "outputs": [],
   "source": [
    "tax_district= t_housing.groupby([\"TaxDistrict\",\"LandUse\"])[\"SalePrice\"].mean().to_frame()\n",
    "tax_district=tax_district.sort_values(by=[\"TaxDistrict\",\"SalePrice\"], ascending=False)\n",
    "fig, ax = plt.subplots(figsize=(15,15))\n",
    "tax_district= filter_outliers(tax_district, 'SalePrice')\n",
    "tax_district.plot(kind='barh', stacked=True,ax=ax)\n",
    "ax.ticklabel_format(style='plain', axis='x')\n",
    "ax.set_title(\"Price Averages Per Land Use Category\")\n",
    "ax.set_ylabel(\"Land Use Groups\")\n",
    "ax.set_xlabel(\"Sale Price\")\n",
    "\n",
    "\n"
   ]
  },
  {
   "cell_type": "code",
   "execution_count": null,
   "metadata": {},
   "outputs": [],
   "source": [
    "t_housing['AcreageToCost'] = t_housing['LandValue']/ t_housing[\"Acreage\"]\n",
    "t_housing['SaleDifference'] = t_housing['SalePrice'] - t_housing[\"TotalValue\"]\n",
    "average_cost = t_housing.groupby([\"LandUse\"]).mean().sort_values(by = \"SaleDifference\", ascending=False)\n",
    "average_cost = average_cost.drop(\"UniqueID\", axis=1)\n",
    "average_cost = average_cost.fillna(0)\n",
    "average_cost\n"
   ]
  },
  {
   "cell_type": "code",
   "execution_count": null,
   "metadata": {},
   "outputs": [],
   "source": [
    "average_cost_chart = average_cost[[\"LandValue\",\"SalePrice\",\"BuildingValue\",\"TotalValue\",\"SaleDifference\"]].sort_values(by='TotalValue',ascending=True)\n",
    "average_cost_chart = average_cost_chart[average_cost_chart['TotalValue'] != 0]\n",
    "fig, ax = plt.subplots(figsize=(15,15))\n",
    "\n",
    "# Plotting the Total Value as a line plot\n",
    "average_cost_chart['TotalValue'].plot(kind=\"barh\",ax=ax, color='red')\n",
    "# Plotting the mean values of Land Value and Building Value as horizontal stacked bars\n",
    "average_cost_chart[['LandValue', 'BuildingValue']].plot(kind='barh', stacked=True, ax=ax, color=['green','blue'])\n",
    "ax.legend([\"Total Value\",\"Land Value\", \"Building Value\"])\n",
    "plt.xlabel('Mean Cost')\n",
    "plt.ylabel('Land Use')\n",
    "plt.title('Mean Cost Breakdown of Land by Categories')\n",
    "\n"
   ]
  },
  {
   "cell_type": "code",
   "execution_count": null,
   "metadata": {},
   "outputs": [],
   "source": [
    "\n",
    "th_filtered = filter_outliers(t_housing, 'SaleDifference')\n",
    "ax =th_filtered.boxplot(\"SaleDifference\", \n",
    "                  by=\"LandUse\", \n",
    "                figsize=(16,16), \n",
    "                showfliers = False, \n",
    "                vert = False, patch_artist=True, \n",
    "                boxprops = dict(facecolor = \"grey\"),\n",
    "                medianprops = dict(color = \"red\", linewidth = 1.5),\n",
    "                whiskerprops = dict(linewidth = 2),\n",
    "                capprops = dict(linewidth = 2))\n",
    "ax.ticklabel_format(style='plain', axis='x')\n",
    "ax.set_title(\"Price Ranges Per Land Use Category\")\n",
    "ax.set_ylabel(\"Land Use Groups\")\n",
    "ax.set_xlabel(\"Sale Price\")"
   ]
  },
  {
   "cell_type": "code",
   "execution_count": null,
   "metadata": {},
   "outputs": [],
   "source": []
  }
 ],
 "metadata": {
  "kernelspec": {
   "display_name": "base",
   "language": "python",
   "name": "python3"
  },
  "language_info": {
   "codemirror_mode": {
    "name": "ipython",
    "version": 3
   },
   "file_extension": ".py",
   "mimetype": "text/x-python",
   "name": "python",
   "nbconvert_exporter": "python",
   "pygments_lexer": "ipython3",
   "version": "3.10.9"
  },
  "orig_nbformat": 4
 },
 "nbformat": 4,
 "nbformat_minor": 2
}
